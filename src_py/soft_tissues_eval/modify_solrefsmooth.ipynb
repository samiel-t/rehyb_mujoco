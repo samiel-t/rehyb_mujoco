{
 "cells": [
  {
   "cell_type": "code",
   "execution_count": 1,
   "metadata": {},
   "outputs": [],
   "source": [
    "%load_ext autoreload\n",
    "%autoreload 2\n",
    "%matplotlib inline"
   ]
  },
  {
   "cell_type": "code",
   "execution_count": 2,
   "metadata": {},
   "outputs": [],
   "source": [
    "import os\n",
    "import matplotlib.pyplot as plt\n",
    "import tikzplotlib\n",
    "import pickle\n",
    "import numpy as np\n",
    "\n",
    "from mujoco_py import MjSim, load_model_from_path\n",
    "\n",
    "from shared_utils.general import models_folder_path, get_project_root\n",
    "from soft_tissues_eval.utils import edit_MjModel_cmp_smoothness\n",
    "from soft_tissues_eval.soft_compression_eval import execute_pre_compression, execute_compression"
   ]
  },
  {
   "cell_type": "code",
   "execution_count": 3,
   "metadata": {},
   "outputs": [
    {
     "name": "stdout",
     "output_type": "stream",
     "text": [
      "(array([155, 156]),)\n",
      "(array([27, 28]),)\n",
      "[[-200 -111]\n",
      " [-975 -111]]\n"
     ]
    }
   ],
   "source": [
    "model_path = os.path.join(models_folder_path(), \"soft_tissues\", \"compression_test_with_solref.xml\")\n",
    "assert os.path.isfile(model_path)\n",
    "\n",
    "\n",
    "model = load_model_from_path(model_path)\n",
    "\n",
    "# prefix of the evaluated composite body\n",
    "cmp_prefix = \"cmp_\"\n",
    "\n",
    "# get ref micro element for composite body width\n",
    "# they are colored in green and blue\n",
    "GREEN_RGBA = np.array([0.2, 0.8, 0.1, 1], dtype=np.float32)\n",
    "BLUE_RGBA = np.array([0.1, 0.2, 0.8, 1.], dtype=np.float32)\n",
    "\n",
    "green_bodies_idx = np.nonzero((model.geom_rgba == GREEN_RGBA).all(axis=1))\n",
    "blue_bodies_idx = np.nonzero((model.geom_rgba == BLUE_RGBA).all(axis=1))\n",
    "\n",
    "print(blue_bodies_idx)\n",
    "print(green_bodies_idx)\n",
    "\n",
    "assert len(green_bodies_idx[0]) == len(blue_bodies_idx[0]) == 2\n",
    "\n",
    "# draw uniform samples of solref stiffness\n",
    "# solref_stiffs = np.arange(-100, -2150, -250)\n",
    "solref_stiffs = np.array([-200, -975])\n",
    "\n",
    "solref_damps = np.full_like(solref_stiffs, -111.)\n",
    "solrefs = np.column_stack((solref_stiffs, solref_damps))\n",
    "\n",
    "print(solrefs)"
   ]
  },
  {
   "cell_type": "code",
   "execution_count": 4,
   "metadata": {},
   "outputs": [],
   "source": [
    "# cache the compression results to dir\n",
    "path_to_cache = os.path.join(get_project_root(), \"bin\", \"ouputs\", \"compression_test\")\n",
    "assert os.path.isdir(path_to_cache)\n",
    "cache_file_path = os.path.join(path_to_cache, \"compression_results.pkl\") \n",
    "\n",
    "# object containing data\n",
    "compression_data = {}\n",
    "\n",
    "if (os.path.isfile(cache_file_path)):\n",
    "    with open(cache_file_path, \"rb\") as f:\n",
    "        compression_data = pickle.load(f)\n",
    "else:\n",
    "    for i, solref in enumerate(solrefs):\n",
    "        compression_data[str(solref)] = {}\n",
    "        # set solref\n",
    "        edit_MjModel_cmp_smoothness(model, cmp_prefix, solref)\n",
    "\n",
    "        # extract useful element indexes\n",
    "        compressor_body_name = \"compressor\"\n",
    "        compressor_body_index = model.body_names.index(compressor_body_name)\n",
    "        compressor_joint_name = \"compressor_slide\"\n",
    "        compressor_joint_index = model.joint_name2id(compressor_joint_name)\n",
    "        compressor_act_index = 0\n",
    "        soft_body_name = \"test_collider\"\n",
    "        soft_body_index = model.body_names.index(soft_body_name)\n",
    "\n",
    "        # init simulation\n",
    "        sim = MjSim(model)\n",
    "        sim.forward()  # ensure that everything is initialized in the sim object\n",
    "\n",
    "        print(f\"Starting pre compression of soft body {i} ...\")\n",
    "\n",
    "        # execute pre compression\n",
    "        execute_pre_compression(model, sim, compressor_body_index, compressor_joint_index,\n",
    "                                compressor_act_index)\n",
    "\n",
    "        print(f\"Starting compression of soft body {i} ...\")\n",
    "\n",
    "        # execute compression\n",
    "        soft_body_width, force_array = execute_compression(sim, compressor_body_index,\n",
    "            compressor_act_index, force_step=10., green_bodies_idx=green_bodies_idx, blue_bodies_idx=blue_bodies_idx)\n",
    "\n",
    "        # save results of the compression\n",
    "        compression_data[str(solref)][\"width\"] = soft_body_width\n",
    "        compression_data[str(solref)][\"force\"] = force_array\n",
    "    \n",
    "    # cache results\n",
    "    with open(cache_file_path, \"wb\") as f:\n",
    "        pickle.dump(compression_data, f, pickle.HIGHEST_PROTOCOL)"
   ]
  },
  {
   "cell_type": "code",
   "execution_count": 5,
   "metadata": {},
   "outputs": [],
   "source": [
    "generated_pgfs_dir = os.path.join(get_project_root(), \"bin\", \"pgf_plots\")\n",
    "assert os.path.isdir(generated_pgfs_dir)"
   ]
  },
  {
   "cell_type": "code",
   "execution_count": 6,
   "metadata": {},
   "outputs": [],
   "source": [
    "\n",
    "\n",
    "# plt.figure()\n",
    "plt.figure(figsize=(10,6))\n",
    "\n",
    "plt.plot(compression_data[str(solrefs[0])][\"width\"], compression_data[str(solrefs[0])][\"force\"])\n",
    "# plt.xlabel(\"Soft body width (m)\")\n",
    "# plt.ylabel(\"Applied force (N)\")\n",
    "\n",
    "plt.show()\n",
    "\n",
    "# tikzplotlib.save(os.path.join(generated_pgfs_dir, \"test.pgf\"))"
   ]
  },
  {
   "cell_type": "code",
   "execution_count": 7,
   "metadata": {},
   "outputs": [
    {
     "data": {
      "text/plain": [
       "array([0.07650206, 0.06954419, 0.06569122, 0.06276741, 0.06027721,\n",
       "       0.05823661, 0.05649289, 0.05489746, 0.05333882, 0.05176235,\n",
       "       0.05013591, 0.04850076, 0.04694207, 0.04564313, 0.04460668,\n",
       "       0.04370606, 0.04286556, 0.0420867 , 0.04134049, 0.04062204,\n",
       "       0.03993799])"
      ]
     },
     "execution_count": 7,
     "metadata": {},
     "output_type": "execute_result"
    }
   ],
   "source": [
    "compression_data[str(solrefs[0])][\"width\"]"
   ]
  },
  {
   "cell_type": "code",
   "execution_count": 8,
   "metadata": {},
   "outputs": [
    {
     "data": {
      "text/plain": [
       "array([  1.,  11.,  21.,  31.,  41.,  51.,  61.,  71.,  81.,  91., 101.,\n",
       "       111., 121., 131., 141., 151., 161., 171., 181., 191., 201.])"
      ]
     },
     "execution_count": 8,
     "metadata": {},
     "output_type": "execute_result"
    }
   ],
   "source": [
    "compression_data[str(solrefs[0])][\"force\"]"
   ]
  },
  {
   "cell_type": "code",
   "execution_count": 10,
   "metadata": {},
   "outputs": [],
   "source": [
    "plt.plot(np.arange(5), np.arange(5))\n",
    "plt.show()"
   ]
  },
  {
   "cell_type": "code",
   "execution_count": null,
   "metadata": {},
   "outputs": [],
   "source": []
  }
 ],
 "metadata": {
  "interpreter": {
   "hash": "7a78004cf1b1e6e5be6e202a0a8aed3a823ec53708b4a0d93c0f7742755b39b0"
  },
  "kernelspec": {
   "display_name": "Python 3.8.10 64-bit ('rehyb-mujoco': virtualenv)",
   "language": "python",
   "name": "python3"
  },
  "language_info": {
   "codemirror_mode": {
    "name": "ipython",
    "version": 3
   },
   "file_extension": ".py",
   "mimetype": "text/x-python",
   "name": "python",
   "nbconvert_exporter": "python",
   "pygments_lexer": "ipython3",
   "version": "3.8.10"
  },
  "orig_nbformat": 4
 },
 "nbformat": 4,
 "nbformat_minor": 2
}

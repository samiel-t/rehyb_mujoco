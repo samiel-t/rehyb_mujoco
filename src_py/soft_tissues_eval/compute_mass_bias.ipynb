{
 "cells": [
  {
   "cell_type": "code",
   "execution_count": null,
   "metadata": {},
   "outputs": [],
   "source": [
    "from mujoco_py import load_model_from_path\n",
    "from utils import compute_composite_body_mass"
   ]
  },
  {
   "cell_type": "code",
   "execution_count": null,
   "metadata": {},
   "outputs": [],
   "source": [
    "import sys, importlib\n",
    "importlib.reload(sys.modules['utils'])\n",
    "from utils import compute_composite_body_mass"
   ]
  },
  {
   "cell_type": "code",
   "execution_count": null,
   "metadata": {},
   "outputs": [],
   "source": [
    "PATH_TO_SOFT_TISSUE = \"../../models/test_generated_soft_tissue.xml\""
   ]
  },
  {
   "cell_type": "code",
   "execution_count": null,
   "metadata": {},
   "outputs": [],
   "source": [
    "model = load_model_from_path(PATH_TO_SOFT_TISSUE)\n",
    "prefix = \"la\"\n",
    "body_name = \"forearm_soft_collider\"\n",
    "\n",
    "mass_bias = compute_composite_body_mass(model, prefix, body_name)\n",
    "print(f\"Mass bias: {mass_bias} kg\")"
   ]
  },
  {
   "cell_type": "code",
   "execution_count": null,
   "metadata": {},
   "outputs": [],
   "source": []
  }
 ],
 "metadata": {
  "interpreter": {
   "hash": "7a78004cf1b1e6e5be6e202a0a8aed3a823ec53708b4a0d93c0f7742755b39b0"
  },
  "kernelspec": {
   "display_name": "Python 3.8.10 64-bit ('rehyb-mujoco': virtualenv)",
   "name": "python3"
  },
  "language_info": {
   "codemirror_mode": {
    "name": "ipython",
    "version": 3
   },
   "file_extension": ".py",
   "mimetype": "text/x-python",
   "name": "python",
   "nbconvert_exporter": "python",
   "pygments_lexer": "ipython3",
   "version": "3.8.10"
  },
  "orig_nbformat": 2
 },
 "nbformat": 4,
 "nbformat_minor": 2
}

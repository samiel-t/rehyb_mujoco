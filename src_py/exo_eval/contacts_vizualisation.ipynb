{
 "cells": [
  {
   "cell_type": "code",
   "execution_count": 2,
   "metadata": {},
   "outputs": [],
   "source": [
    "from mujoco_py import load_model_from_path, MjSim\n",
    "import numpy as np\n",
    "import os\n",
    "import re\n",
    "from shared_utils.general import gen_models_folder_path"
   ]
  },
  {
   "cell_type": "markdown",
   "metadata": {},
   "source": [
    "#### Load model"
   ]
  },
  {
   "cell_type": "code",
   "execution_count": 3,
   "metadata": {},
   "outputs": [],
   "source": [
    "model_path = os.path.join(\n",
    "        gen_models_folder_path(), \"exo_with_patient\", \"nesm_with_simple_patient.xml\")\n",
    "assert os.path.isfile(model_path)"
   ]
  },
  {
   "cell_type": "code",
   "execution_count": 4,
   "metadata": {},
   "outputs": [],
   "source": [
    "model = load_model_from_path(model_path)\n",
    "sim = MjSim(model)\n",
    "sim.forward()"
   ]
  },
  {
   "cell_type": "markdown",
   "metadata": {},
   "source": [
    "#### Active contacts"
   ]
  },
  {
   "cell_type": "markdown",
   "metadata": {},
   "source": [
    "Length of `sim.data.active_contacts_efc_pos` varies in time; however no clear idea on what it is exactly"
   ]
  },
  {
   "cell_type": "code",
   "execution_count": 5,
   "metadata": {},
   "outputs": [
    {
     "data": {
      "text/plain": [
       "(6017,)"
      ]
     },
     "execution_count": 5,
     "metadata": {},
     "output_type": "execute_result"
    }
   ],
   "source": [
    "sim.data.active_contacts_efc_pos.shape"
   ]
  },
  {
   "cell_type": "markdown",
   "metadata": {},
   "source": [
    "#### MjContact object"
   ]
  },
  {
   "cell_type": "markdown",
   "metadata": {},
   "source": [
    "MjContact objects are stored in `sim.data.contact` ; its size is equal to `nconmax`, the maximal number of contacts"
   ]
  },
  {
   "cell_type": "code",
   "execution_count": 9,
   "metadata": {},
   "outputs": [],
   "source": [
    "assert len(sim.data.contact) == model.nconmax"
   ]
  },
  {
   "cell_type": "markdown",
   "metadata": {},
   "source": [
    "I guess that unactive contacts are those were `contact_efc_address` == 0 or equivalently those were geom1 / geom2 == 0"
   ]
  },
  {
   "cell_type": "code",
   "execution_count": 11,
   "metadata": {},
   "outputs": [
    {
     "name": "stdout",
     "output_type": "stream",
     "text": [
      "1375\n"
     ]
    }
   ],
   "source": [
    "# active contacts\n",
    "active_contacts = [con for con in sim.data.contact if con.efc_address != 0]\n",
    "print(len(active_contacts))"
   ]
  },
  {
   "cell_type": "markdown",
   "metadata": {},
   "source": [
    "Strangely it seems that the number of active contacts doesn't change."
   ]
  },
  {
   "cell_type": "code",
   "execution_count": 24,
   "metadata": {},
   "outputs": [
    {
     "name": "stdout",
     "output_type": "stream",
     "text": [
      "1375\n"
     ]
    }
   ],
   "source": [
    "# check if it varies in time\n",
    "for _ in range(100):\n",
    "    sim.step()\n",
    "    \n",
    "active_contacts = [con for con in sim.data.contact if con.efc_address != 0]\n",
    "print(len(active_contacts))\n",
    "\n",
    "\n",
    "contact_geoms = np.array([[con.geom1, con.geom2] for con in active_contacts])"
   ]
  },
  {
   "cell_type": "code",
   "execution_count": 25,
   "metadata": {},
   "outputs": [
    {
     "data": {
      "text/plain": [
       "array([[ 10,  11],\n",
       "       [ 10,  15],\n",
       "       [ 10,  16],\n",
       "       ...,\n",
       "       [367, 370],\n",
       "       [368, 369],\n",
       "       [369, 370]])"
      ]
     },
     "execution_count": 25,
     "metadata": {},
     "output_type": "execute_result"
    }
   ],
   "source": [
    "contact_geoms"
   ]
  },
  {
   "cell_type": "markdown",
   "metadata": {},
   "source": [
    "### Show contact between upper arm support and upper arm soft collider"
   ]
  },
  {
   "cell_type": "code",
   "execution_count": 26,
   "metadata": {},
   "outputs": [],
   "source": [
    "ua_supp_reg = re.compile(\"^ua_[0-9]+$\")\n",
    "ua_soft_reg = re.compile(\"^uaG[0-9]+_[0-9]+_[0-9]+$\")\n",
    "\n",
    "ua_supp_gnames = [name for name in model.geom_names if ua_supp_reg.match(name)]\n",
    "ua_soft_gnames = [name for name in model.geom_names if ua_soft_reg.match(name)]\n",
    "\n",
    "ua_supp_gidx = np.vectorize(model.geom_name2id)(ua_supp_gnames)\n",
    "ua_soft_gidx = np.vectorize(model.geom_name2id)(ua_soft_gnames)"
   ]
  },
  {
   "cell_type": "code",
   "execution_count": 27,
   "metadata": {},
   "outputs": [
    {
     "name": "stdout",
     "output_type": "stream",
     "text": [
      "Support geom indexes are strictly superior to that of the soft collider\n"
     ]
    }
   ],
   "source": [
    "assert np.max(ua_soft_gidx) < np.min(ua_supp_gidx)\n",
    "print(f\"Support geom indexes are strictly superior to that of the soft collider\")"
   ]
  },
  {
   "cell_type": "code",
   "execution_count": 28,
   "metadata": {},
   "outputs": [
    {
     "data": {
      "text/plain": [
       "(36,)"
      ]
     },
     "execution_count": 28,
     "metadata": {},
     "output_type": "execute_result"
    }
   ],
   "source": [
    "# get addresses of contacts involving the upper arm support and the upper arm collider\n",
    "contact_geoms = np.sort(contact_geoms, axis=1)\n",
    "# print(contact_geoms)\n",
    "\n",
    "ua_contacts = np.array([con for con in active_contacts if con.geom2 in ua_supp_gidx and con.geom1 in ua_soft_gidx])\n",
    "ua_contacts.shape"
   ]
  },
  {
   "cell_type": "code",
   "execution_count": 34,
   "metadata": {},
   "outputs": [
    {
     "name": "stdout",
     "output_type": "stream",
     "text": [
      "-0.0035230366061999264\n",
      "[-0.02960466 -0.02964512 -0.08930004]\n",
      "3\n",
      "997\n"
     ]
    }
   ],
   "source": [
    "print(ua_contacts[0].dist)\n",
    "print(ua_contacts[0].pos)\n",
    "print(ua_contacts[0].dim)\n",
    "print(ua_contacts[0].efc_address)"
   ]
  },
  {
   "cell_type": "code",
   "execution_count": 35,
   "metadata": {},
   "outputs": [
    {
     "data": {
      "text/plain": [
       "3.9364729356589327"
      ]
     },
     "execution_count": 35,
     "metadata": {},
     "output_type": "execute_result"
    }
   ],
   "source": [
    "sim.data.efc_force[ua_contacts[0].efc_address]"
   ]
  },
  {
   "cell_type": "code",
   "execution_count": null,
   "metadata": {},
   "outputs": [],
   "source": []
  }
 ],
 "metadata": {
  "interpreter": {
   "hash": "7a78004cf1b1e6e5be6e202a0a8aed3a823ec53708b4a0d93c0f7742755b39b0"
  },
  "kernelspec": {
   "display_name": "Python 3.8.10 ('rehyb-mujoco')",
   "language": "python",
   "name": "python3"
  },
  "language_info": {
   "codemirror_mode": {
    "name": "ipython",
    "version": 3
   },
   "file_extension": ".py",
   "mimetype": "text/x-python",
   "name": "python",
   "nbconvert_exporter": "python",
   "pygments_lexer": "ipython3",
   "version": "3.8.10"
  },
  "orig_nbformat": 4
 },
 "nbformat": 4,
 "nbformat_minor": 2
}

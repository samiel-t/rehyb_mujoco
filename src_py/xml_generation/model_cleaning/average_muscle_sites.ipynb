{
 "metadata": {
  "language_info": {
   "codemirror_mode": {
    "name": "ipython",
    "version": 3
   },
   "file_extension": ".py",
   "mimetype": "text/x-python",
   "name": "python",
   "nbconvert_exporter": "python",
   "pygments_lexer": "ipython3",
   "version": "3.8.10"
  },
  "orig_nbformat": 4,
  "kernelspec": {
   "name": "python3",
   "display_name": "Python 3.8.10 64-bit ('rehyb-mujoco': virtualenvwrapper)"
  },
  "interpreter": {
   "hash": "7ff0a52e16405beba66152e20be4a42358ae593e25243fd424011355466e5ea4"
  }
 },
 "nbformat": 4,
 "nbformat_minor": 2,
 "cells": [
  {
   "cell_type": "code",
   "execution_count": null,
   "metadata": {},
   "outputs": [],
   "source": [
    "import xml.etree.ElementTree as ET\n",
    "import re\n",
    "\n",
    "import numpy as np"
   ]
  },
  {
   "cell_type": "code",
   "execution_count": null,
   "metadata": {},
   "outputs": [],
   "source": [
    "def parse_pos(pos_string):\n",
    "    return np.array([float(x) for x in pos_string.split()])"
   ]
  },
  {
   "cell_type": "code",
   "execution_count": null,
   "metadata": {},
   "outputs": [],
   "source": [
    "tree = ET.parse('../../muscular_models/arm_SE_full.xml')\n",
    "root = tree.getroot()\n",
    "\n",
    "name = \"lat_dorsi\"\n",
    "end = \"P2\"\n",
    "\n",
    "avg_name = name+\"_illi-\"+end\n",
    "regex = name+\"[_1][5-6]-\"+end\n",
    "\n",
    "m = re.compile(regex)\n",
    "avg = np.array([]).reshape((0, 3))\n",
    "\n",
    "for site in root.iter('site'):\n",
    "    if 'name' in site.attrib and m.match(site.attrib['name']):\n",
    "        print(f\"{site.attrib['name']} pos: {site.attrib['pos']}\")\n",
    "        avg = np.vstack((avg, parse_pos(site.attrib['pos'])))\n",
    "\n",
    "if avg.shape[0] > 0:\n",
    "    print(f\"<site name=\\\"{avg_name}\\\" pos=\\\"{' '.join(map(str, [round(x, 5) for x in np.mean(avg, axis=0) ]) )}\\\"/>\")\n",
    "    print()\n",
    "else:\n",
    "    print(f\"There must be a problem somewhere\")"
   ]
  },
  {
   "cell_type": "code",
   "execution_count": null,
   "metadata": {},
   "outputs": [],
   "source": []
  }
 ]
}
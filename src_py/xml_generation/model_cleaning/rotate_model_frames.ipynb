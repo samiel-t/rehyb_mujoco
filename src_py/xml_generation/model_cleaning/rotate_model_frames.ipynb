{
 "cells": [
  {
   "cell_type": "code",
   "execution_count": 13,
   "metadata": {},
   "outputs": [],
   "source": [
    "import xml.etree.ElementTree as ET\n",
    "import numpy as np\n",
    "import os\n",
    "\n",
    "from shared_utils.general import parse_float_seq, parse_int_seq, list_to_string, gen_models_folder_path"
   ]
  },
  {
   "cell_type": "code",
   "execution_count": 14,
   "metadata": {},
   "outputs": [],
   "source": [
    "def flip_pos_array(pos_array, flip_func):\n",
    "    for i in range(0, len(pos_array), 3):\n",
    "        pos_array[i:i+3] = flip_func(pos_array[i:i+3])\n",
    "    return pos_array\n",
    "\n",
    "def flip_string(pos_string, flip_func, string_parser):\n",
    "    return list_to_string(flip_pos_array(string_parser(pos_string), flip_func))\n",
    "\n",
    "def flip_pos_string(pos_string, flip_func):\n",
    "    return flip_string(pos_string, flip_func, parse_float_seq)\n",
    "\n",
    "def flip_int_string(pos_string, flip_func):\n",
    "    return flip_string(pos_string, flip_func, parse_int_seq)\n",
    "\n",
    "def is_3_coord_pos(pos_string):\n",
    "    return len(parse_float_seq(pos_string)) % 3 == 0"
   ]
  },
  {
   "cell_type": "code",
   "execution_count": null,
   "metadata": {},
   "outputs": [],
   "source": [
    "MODEL_PATH = os.path.join(gen_models_folder_path(), \"exo_with_patient\", \"nesm_with_patient.xml\")\n",
    "assert os.path.isfile(MODEL_PATH)"
   ]
  },
  {
   "cell_type": "markdown",
   "metadata": {},
   "source": [
    "## Flip hand frames in v11"
   ]
  },
  {
   "cell_type": "code",
   "execution_count": 7,
   "metadata": {},
   "outputs": [],
   "source": [
    "def flip_hand_pos(pos):\n",
    "    pos_list = []\n",
    "    pos_list.append(-pos[1])\n",
    "    pos_list.append(pos[0])\n",
    "    pos_list.append(pos[2])\n",
    "    return pos_list\n",
    "\n",
    "def flip_hand_string(pos_string):\n",
    "    return flip_pos_string(pos_string, flip_hand_pos)"
   ]
  },
  {
   "cell_type": "code",
   "execution_count": 8,
   "metadata": {},
   "outputs": [],
   "source": [
    "tree = ET.parse(MODEL_PATH)\n",
    "root = tree.getroot()\n",
    "\n",
    "checked_attrib = ['pos', 'fromto', 'axis']\n",
    "\n",
    "hand = root.findall(f\".//body[@name='hand_r']\")[0]\n",
    "\n",
    "for child in hand.iter():\n",
    "    for attrib in checked_attrib:\n",
    "        if attrib in child.attrib:\n",
    "            child.attrib[attrib] = flip_hand_string(child.attrib[attrib])\n",
    "\n",
    "\n",
    "# print(ET.tostring(hand, encoding='unicode'))"
   ]
  },
  {
   "cell_type": "markdown",
   "metadata": {},
   "source": [
    "## Flip human body frames"
   ]
  },
  {
   "cell_type": "code",
   "execution_count": 15,
   "metadata": {},
   "outputs": [],
   "source": [
    "def flip_body_pos(pos):\n",
    "    flipped_pos = []\n",
    "    flipped_pos.append(-pos[1])\n",
    "    flipped_pos.append(pos[0])\n",
    "    flipped_pos.append(pos[2])\n",
    "    return flipped_pos\n",
    "\n",
    "def flip_body_unsigned_pos(pos):\n",
    "    return np.abs(flip_body_pos(pos))\n",
    "\n",
    "\n",
    "def flip_body_pos_string(pos_string):\n",
    "    return flip_pos_string(pos_string, flip_body_pos)\n",
    "\n",
    "def flip_body_unsigned_pos_string(pos_string):\n",
    "    return flip_pos_string(pos_string, flip_body_unsigned_pos)\n",
    "\n",
    "\n",
    "def flip_body_int_string(int_string):\n",
    "    return flip_int_string(int_string, flip_body_pos)\n",
    "\n",
    "def flip_body_unsigned_int_string(int_string):\n",
    "    return flip_int_string(int_string, flip_body_unsigned_pos)"
   ]
  },
  {
   "cell_type": "code",
   "execution_count": 20,
   "metadata": {},
   "outputs": [],
   "source": [
    "tree = ET.parse(MODEL_PATH)\n",
    "root = tree.getroot()\n",
    "\n",
    "pos_attrib = ['pos', 'fromto', 'axis']\n",
    "\n",
    "thorax = root.findall(f\".//body[@name='thorax']\")[0]\n",
    "\n",
    "for child in thorax.iter():\n",
    "    for attrib in pos_attrib:\n",
    "        if attrib in child.attrib:\n",
    "            child.attrib[attrib] = flip_body_pos_string(child.attrib[attrib])\n",
    "\n",
    "    if 'size' in child.attrib and is_3_coord_pos(child.attrib['size']):\n",
    "        child.attrib['size'] = flip_body_unsigned_pos_string(child.attrib['size'])\n",
    "\n",
    "    if 'diaginertia' in child.attrib:\n",
    "        child.attrib['diaginertia'] = flip_body_unsigned_pos_string(child.attrib['diaginertia'])\n",
    "\n",
    "    if 'count' in child.attrib:\n",
    "        child.attrib['count'] = flip_body_unsigned_int_string(child.attrib['count'])\n",
    "\n",
    "# print(ET.tostring(thorax, encoding='unicode'))\n"
   ]
  },
  {
   "cell_type": "code",
   "execution_count": null,
   "metadata": {},
   "outputs": [],
   "source": []
  }
 ],
 "metadata": {
  "interpreter": {
   "hash": "7ff0a52e16405beba66152e20be4a42358ae593e25243fd424011355466e5ea4"
  },
  "kernelspec": {
   "display_name": "Python 3.8.10 64-bit ('rehyb-mujoco': virtualenvwrapper)",
   "name": "python3"
  },
  "language_info": {
   "codemirror_mode": {
    "name": "ipython",
    "version": 3
   },
   "file_extension": ".py",
   "mimetype": "text/x-python",
   "name": "python",
   "nbconvert_exporter": "python",
   "pygments_lexer": "ipython3",
   "version": "3.8.10"
  },
  "orig_nbformat": 4
 },
 "nbformat": 4,
 "nbformat_minor": 2
}

{
 "cells": [
  {
   "cell_type": "code",
   "execution_count": null,
   "metadata": {},
   "outputs": [],
   "source": [
    "import numpy as np\n",
    "\n",
    "from shared_utils.general import round_to_3"
   ]
  },
  {
   "cell_type": "code",
   "execution_count": null,
   "metadata": {},
   "outputs": [],
   "source": [
    "# human characteristics\n",
    "height = 1.75           # m \n",
    "mass = 70               # kg"
   ]
  },
  {
   "cell_type": "markdown",
   "metadata": {},
   "source": [
    "Source of anthropometric data: *ESTIMATION OF MASS MOMENT OF INERTIA OF HUMAN\n",
    "BODY, WHEN BENDING FORWARD, FOR THE DESIGN OF A\n",
    "SELF-TRANSFER ROBOTIC FACILITY*"
   ]
  },
  {
   "cell_type": "code",
   "execution_count": null,
   "metadata": {},
   "outputs": [],
   "source": [
    "''' upper arm '''\n",
    "\n",
    "length_ua = .172*height\n",
    "mass_ua = .03*mass\n",
    "\n",
    "# position of the center of gravity from proximal end\n",
    "cg_ua = .436*length_ua  \n",
    "\n",
    "# radiuses of gyration [sagittal axis, frontal axis, longitudinal axis]\n",
    "rad_gyr_ua = np.array([.328, .31, .182])*length_ua\n",
    "\n",
    "print(\"Length of the upper arm:\", round_to_3(length_ua),\"(m)\\n\")\n",
    "print(\"Mass of the upper arm:\", round_to_3(mass_ua),\"(kg)\\n\")\n",
    "print(\"CG pos of the upper arm:\", round_to_3(cg_ua),\"(m)\\n\")\n",
    "print(\"Radiuses of gyration of the upper arm:\", round_to_3(rad_gyr_ua), \"(m)\")"
   ]
  },
  {
   "cell_type": "code",
   "execution_count": null,
   "metadata": {},
   "outputs": [],
   "source": [
    "''' lower arm '''\n",
    "\n",
    "length_la = .157*height\n",
    "mass_la = .0175*mass\n",
    "\n",
    "# position of the center of gravity from proximal end\n",
    "cg_la = .43*length_la  \n",
    "\n",
    "# radiuses of gyration [sagittal axis, frontal axis, longitudinal axis]\n",
    "rad_gyr_la = np.array([.295, .284, .13])*length_la\n",
    "\n",
    "print(\"Length of the lower arm:\", round_to_3(length_la),\"(m)\\n\")\n",
    "print(\"Mass of the lower arm:\", round_to_3(mass_la),\"(kg)\\n\")\n",
    "print(\"CG pos of the lower arm:\", round_to_3(cg_la),\"(m)\\n\")\n",
    "print(\"Radiuses of gyration of the lower arm:\", round_to_3(rad_gyr_la), \"(m)\")"
   ]
  },
  {
   "cell_type": "markdown",
   "metadata": {},
   "source": [
    "One recalls: $$mr^2=I$$\n",
    "with $m$ the total mass of the body, $r$ its radius of gyration around a given axis, and $I$ its moment of inertia around that axis."
   ]
  },
  {
   "cell_type": "code",
   "execution_count": null,
   "metadata": {},
   "outputs": [],
   "source": [
    "''' inertia upper arm '''\n",
    "I_ua = mass_ua*rad_gyr_ua**2\n",
    "print(\"Inertia of the upper arm:\", round_to_3(I_ua),\"(m^2.kg)\\n\")\n",
    "\n",
    "''' inertia lower arm '''\n",
    "I_la = mass_la*rad_gyr_la**2\n",
    "print(\"Inertia of the lower arm:\", round_to_3(I_la), \"(m^2.kg)\")"
   ]
  },
  {
   "cell_type": "markdown",
   "metadata": {},
   "source": [
    "Furthermore, if one assumes that sagittal, frontal and longitudinal axes are the main inertial axes of the limb, one has the full inertia matrix of the limb."
   ]
  },
  {
   "cell_type": "code",
   "execution_count": null,
   "metadata": {},
   "outputs": [],
   "source": []
  }
 ],
 "metadata": {
  "kernelspec": {
   "display_name": "Python 3.8.5 64-bit ('rehyb-mujoco': virtualenvwrapper)",
   "name": "python385jvsc74a57bd07ff0a52e16405beba66152e20be4a42358ae593e25243fd424011355466e5ea4"
  },
  "language_info": {
   "codemirror_mode": {
    "name": "ipython",
    "version": 3
   },
   "file_extension": ".py",
   "mimetype": "text/x-python",
   "name": "python",
   "nbconvert_exporter": "python",
   "pygments_lexer": "ipython3",
   "version": "3.8.5"
  }
 },
 "nbformat": 4,
 "nbformat_minor": 2
}

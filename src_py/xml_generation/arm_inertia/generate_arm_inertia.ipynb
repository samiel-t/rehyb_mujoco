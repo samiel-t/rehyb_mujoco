{
 "cells": [
  {
   "cell_type": "code",
   "execution_count": 2,
   "metadata": {},
   "outputs": [],
   "source": [
    "import numpy as np\n",
    "import os\n",
    "\n",
    "from xml_generation.arm_inertia.utils import compute_limb_features, print_limb_features, inertia_to_XML\n",
    "from xml_generation.utils import save_xml_file\n",
    "from shared_utils.general import gen_models_folder_path"
   ]
  },
  {
   "cell_type": "code",
   "execution_count": 3,
   "metadata": {},
   "outputs": [],
   "source": [
    "def generate_arm_inertia_xml(file_name, body_mass, body_height, anthropometric_perc, xyz_slack=[0, 0, 0], xyz_sign=[1, 1, 1], color_seq=['r','g','b'], directory_path=None, limb_name=\"limb\", root_name=\"generated\", must_save=True, must_print=False):\n",
    "    limb_features = compute_limb_features(body_mass, body_height, anthropometric_perc)\n",
    "\n",
    "    if(must_print):\n",
    "        print_limb_features(*limb_features, limb_name)\n",
    "\n",
    "    if(must_save):\n",
    "        root = inertia_to_XML(*limb_features[1:], xyz_slack, xyz_sign, color_seq, root_name)\n",
    "        save_xml_file(root, file_name, directory_path)"
   ]
  },
  {
   "cell_type": "code",
   "execution_count": 4,
   "metadata": {},
   "outputs": [],
   "source": [
    "# human characteristics\n",
    "body_height = 1.75           # m \n",
    "body_mass = 70               # kg"
   ]
  },
  {
   "cell_type": "code",
   "execution_count": 5,
   "metadata": {},
   "outputs": [],
   "source": [
    "directory_path = os.path.join(gen_models_folder_path(), \"inertia\")\n",
    "assert os.path.isdir(directory_path)"
   ]
  },
  {
   "cell_type": "code",
   "execution_count": 6,
   "metadata": {},
   "outputs": [],
   "source": [
    "# upper arm\n",
    "upper_arm_percentage = np.array([.172, .03, .436, .328, .31, .182])\n",
    "\n",
    "\n",
    "generate_arm_inertia_xml(\"upper_arm_inertia.xml\",body_mass, body_height, upper_arm_percentage, limb_name=\"upper arm\", directory_path=directory_path)"
   ]
  },
  {
   "cell_type": "code",
   "execution_count": 7,
   "metadata": {},
   "outputs": [],
   "source": [
    "# lower arm\n",
    "lower_arm_percentage = np.array([.157, .0175, .43, .295, .284, .13])\n",
    "\n",
    "generate_arm_inertia_xml(\"lower_arm_inertia.xml\",body_mass, body_height, lower_arm_percentage, limb_name=\"lower arm\", directory_path=directory_path)"
   ]
  },
  {
   "cell_type": "code",
   "execution_count": null,
   "metadata": {},
   "outputs": [],
   "source": []
  }
 ],
 "metadata": {
  "interpreter": {
   "hash": "7ff0a52e16405beba66152e20be4a42358ae593e25243fd424011355466e5ea4"
  },
  "kernelspec": {
   "display_name": "Python 3.8.10 64-bit ('rehyb-mujoco': virtualenvwrapper)",
   "name": "python3"
  },
  "language_info": {
   "codemirror_mode": {
    "name": "ipython",
    "version": 3
   },
   "file_extension": ".py",
   "mimetype": "text/x-python",
   "name": "python",
   "nbconvert_exporter": "python",
   "pygments_lexer": "ipython3",
   "version": "3.8.10"
  }
 },
 "nbformat": 4,
 "nbformat_minor": 2
}

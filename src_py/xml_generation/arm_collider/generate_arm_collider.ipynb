{
 "cells": [
  {
   "cell_type": "code",
   "execution_count": 2,
   "metadata": {},
   "outputs": [],
   "source": [
    "import os\n",
    "\n",
    "from xml.etree import ElementTree as ET\n",
    "\n",
    "from xml_generation.arm_collider.utils import add_composite_element, add_micro_geom\n",
    "from xml_generation.utils import save_xml_file\n",
    "\n",
    "from shared_utils.general import gen_models_folder_path"
   ]
  },
  {
   "cell_type": "code",
   "execution_count": 3,
   "metadata": {},
   "outputs": [],
   "source": [
    "root = ET.Element(\"generated\")\n",
    "\n",
    "# create composite element\n",
    "cmp_type = \"ellipsoid\"\n",
    "count = [5, 5, 10]\n",
    "spacing = .02\n",
    "prefix = \"la\"\n",
    "\n",
    "composite = add_composite_element(body_parent=root,cmp_type=cmp_type, count=count, spacing=spacing, prefix=prefix)\n",
    "\n",
    "\n",
    "# create geom element\n",
    "mass = .001\n",
    "geom_type = \"sphere\"\n",
    "size = [.0085]\n",
    "rgba = [.8, .2, .1, .2]\n",
    "\n",
    "add_micro_geom(composite_parent=composite ,mass=mass, geom_type=geom_type, size=size, rgba=rgba)\n",
    "\n",
    "# save file\n",
    "path_to_dir = os.path.join(gen_models_folder_path(), \"soft_tissues\")\n",
    "assert os.path.isdir(path_to_dir)\n",
    "save_xml_file(root, \"soft_collider.xml\", directory_path=path_to_dir)"
   ]
  },
  {
   "cell_type": "code",
   "execution_count": null,
   "metadata": {},
   "outputs": [],
   "source": []
  }
 ],
 "metadata": {
  "interpreter": {
   "hash": "7ff0a52e16405beba66152e20be4a42358ae593e25243fd424011355466e5ea4"
  },
  "kernelspec": {
   "display_name": "Python 3.8.10 64-bit ('rehyb-mujoco': virtualenvwrapper)",
   "name": "python3"
  },
  "language_info": {
   "codemirror_mode": {
    "name": "ipython",
    "version": 3
   },
   "file_extension": ".py",
   "mimetype": "text/x-python",
   "name": "python",
   "nbconvert_exporter": "python",
   "pygments_lexer": "ipython3",
   "version": "3.8.10"
  },
  "orig_nbformat": 2
 },
 "nbformat": 4,
 "nbformat_minor": 2
}

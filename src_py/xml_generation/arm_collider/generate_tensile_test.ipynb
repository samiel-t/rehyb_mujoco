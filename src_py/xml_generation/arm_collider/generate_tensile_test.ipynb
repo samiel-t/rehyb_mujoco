{
 "cells": [
  {
   "cell_type": "code",
   "execution_count": 1,
   "metadata": {},
   "outputs": [],
   "source": [
    "import os\n",
    "\n",
    "from mujoco_py import load_model_from_path\n",
    "\n",
    "from xml_generation.arm_collider.utils import create_extender, create_basic_actuator, create_test_collider, create_extender_equality_constraints\n",
    "from xml_generation.utils import wrap_save_xml_element\n",
    "from shared_utils.general import gen_models_folder_path, models_folder_path"
   ]
  },
  {
   "cell_type": "code",
   "execution_count": 2,
   "metadata": {},
   "outputs": [],
   "source": [
    "GEN_TENSILE_TEST_PATH = os.path.join(gen_models_folder_path(), \"soft_tissues\")\n",
    "assert os.path.isdir(GEN_TENSILE_TEST_PATH)"
   ]
  },
  {
   "cell_type": "code",
   "execution_count": 3,
   "metadata": {},
   "outputs": [],
   "source": [
    "# create extender body element\n",
    "FIXED_BODY = \"wall\"\n",
    "MOBILE_BODY = \"extender\"\n",
    "EXTENDER_SLIDE = \"extender_slide\"\n",
    "EXTENDER_GAP = .4\n",
    "\n",
    "extender = create_extender(FIXED_BODY, MOBILE_BODY, EXTENDER_SLIDE, EXTENDER_GAP)\n",
    "\n",
    "# save extender alone\n",
    "wrap_save_xml_element(extender, \"test_extender.xml\", directory_path=GEN_TENSILE_TEST_PATH)\n",
    "\n",
    "\n",
    "# create extender actuator element\n",
    "gear = 20\n",
    "extender_actuator = create_basic_actuator(EXTENDER_SLIDE, gear=gear)\n",
    "\n",
    "# save extender actuator alone\n",
    "wrap_save_xml_element(extender_actuator, \"test_extender_actuator.xml\", directory_path=GEN_TENSILE_TEST_PATH)\n",
    "\n",
    "\n",
    "# add composite element\n",
    "\n",
    "    # body params\n",
    "root_name = \"test_collider\"\n",
    "root_pos = [EXTENDER_GAP/2, 0., 0.]\n",
    "\n",
    "    # composite params\n",
    "cmp_type = \"ellipsoid\"\n",
    "count = [10, 5, 5]\n",
    "spacing = .02\n",
    "PREFIX = \"cmp_\"\n",
    "\n",
    "    # geom params\n",
    "mass = .001\n",
    "geom_type = \"sphere\"\n",
    "size = [.0085]\n",
    "rgba = [.8, .2, .1, .2]\n",
    "\n",
    "collider = create_test_collider(root_name, root_pos, cmp_type, count, spacing, mass, prefix=PREFIX, geom_type=geom_type, size=size, rgba=rgba)\n",
    "\n",
    "# save composite collider alone\n",
    "wrap_save_xml_element(collider, \"test_collider.xml\", directory_path=GEN_TENSILE_TEST_PATH)"
   ]
  },
  {
   "cell_type": "code",
   "execution_count": 4,
   "metadata": {},
   "outputs": [],
   "source": [
    "# load model embedding test collider alone\n",
    "path_to_collider_model = os.path.join(models_folder_path(), \"soft_tissues\", \"generated_collider_alone.xml\")\n",
    "assert os.path.isfile(path_to_collider_model)\n",
    "\n",
    "model = load_model_from_path(path_to_collider_model)\n",
    "\n",
    "body_names = model.body_names\n",
    "equality = create_extender_equality_constraints(body_names, FIXED_BODY, MOBILE_BODY, PREFIX, count=count, policy=\"CENTERED\")\n",
    "\n",
    "# save equality constraints alone\n",
    "wrap_save_xml_element(equality, \"test_equality_constraints.xml\", directory_path=GEN_TENSILE_TEST_PATH)"
   ]
  },
  {
   "cell_type": "code",
   "execution_count": null,
   "metadata": {},
   "outputs": [],
   "source": []
  }
 ],
 "metadata": {
  "interpreter": {
   "hash": "7a78004cf1b1e6e5be6e202a0a8aed3a823ec53708b4a0d93c0f7742755b39b0"
  },
  "kernelspec": {
   "display_name": "Python 3.8.5 64-bit ('rehyb-mujoco': virtualenvwrapper)",
   "language": "python",
   "name": "python3"
  },
  "language_info": {
   "codemirror_mode": {
    "name": "ipython",
    "version": 3
   },
   "file_extension": ".py",
   "mimetype": "text/x-python",
   "name": "python",
   "nbconvert_exporter": "python",
   "pygments_lexer": "ipython3",
   "version": "3.8.10"
  },
  "orig_nbformat": 2
 },
 "nbformat": 4,
 "nbformat_minor": 2
}

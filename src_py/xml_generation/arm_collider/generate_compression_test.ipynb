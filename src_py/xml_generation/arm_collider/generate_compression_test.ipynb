{
 "cells": [
  {
   "cell_type": "code",
   "execution_count": 1,
   "metadata": {},
   "outputs": [],
   "source": [
    "import os\n",
    "\n",
    "from xml_generation.arm_collider.utils import create_extender, create_basic_actuator, create_test_collider\n",
    "from xml_generation.utils import wrap_save_xml_element\n",
    "from shared_utils.general import gen_models_folder_path"
   ]
  },
  {
   "cell_type": "code",
   "execution_count": 2,
   "metadata": {},
   "outputs": [],
   "source": [
    "GEN_COMPRESSION_DIR = os.path.join(gen_models_folder_path(), \"soft_tissues\")\n",
    "assert os.path.isdir(GEN_COMPRESSION_DIR)"
   ]
  },
  {
   "cell_type": "code",
   "execution_count": 3,
   "metadata": {},
   "outputs": [],
   "source": [
    "# create compressor body (XML element)\n",
    "FIXED_BODY = \"wall\"\n",
    "MOBILE_BODY = \"compressor\"\n",
    "EXTENDER_SLIDE = \"compressor_slide\"\n",
    "EXTENDER_GAP = .4\n",
    "\n",
    "compressor = create_extender(FIXED_BODY, MOBILE_BODY, EXTENDER_SLIDE, EXTENDER_GAP, slide_range=[-1, 1], h_length=.1)\n",
    "\n",
    "# save compressor body\n",
    "wrap_save_xml_element(compressor, \"compressor_body.xml\", directory_path=GEN_COMPRESSION_DIR)"
   ]
  },
  {
   "cell_type": "code",
   "execution_count": 4,
   "metadata": {},
   "outputs": [],
   "source": [
    "# create compressor actuator (XML element)\n",
    "gear = -1\n",
    "compressor_actuator = create_basic_actuator(EXTENDER_SLIDE, gear=gear)\n",
    "\n",
    "# save compressor actuator\n",
    "wrap_save_xml_element(compressor_actuator, \"compressor_actuator.xml\", directory_path=GEN_COMPRESSION_DIR)"
   ]
  },
  {
   "cell_type": "code",
   "execution_count": 5,
   "metadata": {},
   "outputs": [],
   "source": [
    "# add composite element\n",
    "\n",
    "    # body params\n",
    "root_name = \"test_collider\"\n",
    "root_pos = [EXTENDER_GAP/2, 0., 0.]\n",
    "\n",
    "    # composite params\n",
    "cmp_type = \"ellipsoid\"\n",
    "count = [5, 5, 10]\n",
    "spacing = .02\n",
    "PREFIX = \"cmp_\"\n",
    "\n",
    "    # geom params\n",
    "mass = .001\n",
    "geom_type = \"sphere\"\n",
    "size = [.0085]\n",
    "rgba = [.8, .2, .1, .2]\n",
    "\n",
    "tested_collider = create_test_collider(root_name, root_pos, cmp_type, count, spacing, mass, prefix=PREFIX, geom_type=geom_type, size=size, rgba=rgba)\n",
    "\n",
    "# save composite collider alone\n",
    "wrap_save_xml_element(tested_collider, \"tested_collider.xml\", directory_path=GEN_COMPRESSION_DIR)"
   ]
  },
  {
   "cell_type": "code",
   "execution_count": null,
   "metadata": {},
   "outputs": [],
   "source": []
  }
 ],
 "metadata": {
  "interpreter": {
   "hash": "7ff0a52e16405beba66152e20be4a42358ae593e25243fd424011355466e5ea4"
  },
  "kernelspec": {
   "display_name": "Python 3.8.10 64-bit ('rehyb-mujoco': virtualenv)",
   "name": "python3"
  },
  "language_info": {
   "codemirror_mode": {
    "name": "ipython",
    "version": 3
   },
   "file_extension": ".py",
   "mimetype": "text/x-python",
   "name": "python",
   "nbconvert_exporter": "python",
   "pygments_lexer": "ipython3",
   "version": "3.8.10"
  },
  "orig_nbformat": 2
 },
 "nbformat": 4,
 "nbformat_minor": 2
}

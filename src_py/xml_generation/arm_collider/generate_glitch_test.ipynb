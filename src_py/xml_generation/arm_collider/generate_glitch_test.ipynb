{
 "cells": [
  {
   "cell_type": "code",
   "execution_count": 1,
   "metadata": {},
   "outputs": [],
   "source": [
    "import os\n",
    "from xml_generation.arm_collider.utils import create_glitching_collider, create_basic_actuator\n",
    "from xml_generation.utils import wrap_save_xml_element\n",
    "from shared_utils.general import gen_models_folder_path"
   ]
  },
  {
   "cell_type": "code",
   "execution_count": 2,
   "metadata": {},
   "outputs": [],
   "source": [
    "GEN_TEST_PATH = os.path.join(gen_models_folder_path(), \"soft_tissues\")\n",
    "assert os.path.isdir(GEN_TEST_PATH)"
   ]
  },
  {
   "cell_type": "code",
   "execution_count": null,
   "metadata": {},
   "outputs": [],
   "source": [
    "# add composite element\n",
    "\n",
    "    # body params\n",
    "root_name = \"test_collider\"\n",
    "root_pos = [0., 0., .05]\n",
    "\n",
    "    # slide params\n",
    "SLIDE_NAME = \"glitch_rail\"\n",
    "\n",
    "    # composite params\n",
    "cmp_type = \"ellipsoid\"\n",
    "count = [10, 5, 5]\n",
    "spacing = .02\n",
    "PREFIX = \"cmp_\"\n",
    "\n",
    "    # geom params\n",
    "mass = .001\n",
    "geom_type = \"sphere\"\n",
    "size = [.0085]\n",
    "rgba = [.8, .2, .1, .2]\n",
    "\n",
    "collider = create_glitching_collider(root_name, root_pos, cmp_type, count, spacing, mass, SLIDE_NAME, prefix=PREFIX, geom_type=geom_type, size=size, rgba=rgba)\n",
    "\n",
    "# save composite collider alone\n",
    "wrap_save_xml_element(collider, \"glitching_collider.xml\", directory_path=GEN_TEST_PATH)\n",
    "\n",
    "\n",
    "# create actuator element\n",
    "gear = 20\n",
    "compressor_actuator = create_basic_actuator(SLIDE_NAME, name=\"glitch_m\", gear=gear)\n",
    "\n",
    "# save extender actuator alone\n",
    "wrap_save_xml_element(compressor_actuator, \"glitching_test_actuator.xml\", directory_path=GEN_TEST_PATH)"
   ]
  },
  {
   "cell_type": "code",
   "execution_count": null,
   "metadata": {},
   "outputs": [],
   "source": []
  }
 ],
 "metadata": {
  "interpreter": {
   "hash": "7a78004cf1b1e6e5be6e202a0a8aed3a823ec53708b4a0d93c0f7742755b39b0"
  },
  "kernelspec": {
   "display_name": "Python 3.8.5 64-bit ('rehyb-mujoco': virtualenvwrapper)",
   "language": "python",
   "name": "python3"
  },
  "language_info": {
   "codemirror_mode": {
    "name": "ipython",
    "version": 3
   },
   "file_extension": ".py",
   "mimetype": "text/x-python",
   "name": "python",
   "nbconvert_exporter": "python",
   "pygments_lexer": "ipython3",
   "version": "3.8.10"
  },
  "orig_nbformat": 2
 },
 "nbformat": 4,
 "nbformat_minor": 2
}

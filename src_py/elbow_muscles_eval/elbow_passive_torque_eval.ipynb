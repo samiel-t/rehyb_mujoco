{
 "cells": [
  {
   "cell_type": "code",
   "execution_count": null,
   "metadata": {},
   "outputs": [],
   "source": [
    "%matplotlib inline\n",
    "import matplotlib.pyplot as plt\n",
    "import numpy as np\n",
    "import os\n",
    "\n",
    "from mujoco_py import load_model_from_path, MjSim\n",
    "from shared_utils.general import gen_models_folder_path\n",
    "from utils import add_joint_pos, add_joint_vel, add_musc_force\n",
    "from shared_utils.mujoco import n_step_forward"
   ]
  },
  {
   "cell_type": "code",
   "execution_count": null,
   "metadata": {},
   "outputs": [],
   "source": [
    "PATH_TO_MODEL = os.path.join(\n",
    "        gen_models_folder_path(), \"muscles\", \"eval_elbow_flex_ext.xml\")\n",
    "\n",
    "model = load_model_from_path(PATH_TO_MODEL)\n",
    "sim = MjSim(model)\n",
    "\n",
    "orig_state = sim.get_state()"
   ]
  },
  {
   "cell_type": "code",
   "execution_count": null,
   "metadata": {},
   "outputs": [],
   "source": [
    "elbow_joint_name = \"el_x\"\n",
    "elbow_joint_index = model.joint_name2id(elbow_joint_name)\n",
    "\n",
    "time_step = model.opt.timestep"
   ]
  },
  {
   "cell_type": "code",
   "execution_count": null,
   "metadata": {},
   "outputs": [],
   "source": [
    "# experiment params\n",
    "phases_nb_steps = [400, 400]\n",
    "control_forces = [2.5, -1.5]\n",
    "init_steps = 100\n",
    "\n",
    "# initialize variables\n",
    "elbow_pos = []\n",
    "elbow_vel = []\n",
    "elbow_musc_torque = []\n",
    "\n",
    "sim.set_state(orig_state)\n",
    "n_step_forward(init_steps,sim)\n",
    "\n",
    "for control_force, phase_nb_steps in zip(control_forces, phases_nb_steps):\n",
    "    sim.data.qfrc_applied[elbow_joint_index] = control_force\n",
    "\n",
    "    for _ in range(phase_nb_steps):\n",
    "        add_joint_pos(sim.data, elbow_pos, elbow_joint_name)\n",
    "        add_joint_vel(sim.data, elbow_vel, elbow_joint_name)\n",
    "        add_musc_force(sim.data, elbow_musc_torque, elbow_joint_index)\n",
    "\n",
    "        sim.step()\n",
    "\n",
    "time_array = time_step*np.arange(0, len(elbow_pos))\n",
    "deg_elbow_pos = np.rad2deg(elbow_pos)"
   ]
  },
  {
   "cell_type": "code",
   "execution_count": null,
   "metadata": {},
   "outputs": [],
   "source": [
    "fig, axes = plt.subplots(2, 2)\n",
    "  \n",
    "fig.set_size_inches(12, 10)\n",
    "fig.suptitle('Elbow experiment')\n",
    "\n",
    "# plot jangular displacement\n",
    "axes[0,0].scatter(time_array[:phases_nb_steps[0]], deg_elbow_pos[:phases_nb_steps[0]], label=\"Flexion phase\")\n",
    "axes[0,0].scatter(time_array[phases_nb_steps[0]:], deg_elbow_pos[phases_nb_steps[0]:], label=\"Extension phase\")\n",
    "\n",
    "axes[0,0].set_xlabel(\"Time (s)\")\n",
    "axes[0,0].set_ylabel(\"Angular displacement (deg)\")\n",
    "axes[0,0].legend()\n",
    "axes[0,0].set_title(\"Angular displacement\")\n",
    "\n",
    "# plot passive muscular torque\n",
    "axes[0,1].scatter(deg_elbow_pos[:phases_nb_steps[0]],\n",
    "                      elbow_musc_torque[:phases_nb_steps[0]], label=\"Flexion phase\")\n",
    "axes[0,1].scatter(deg_elbow_pos[phases_nb_steps[0]:],\n",
    "                      elbow_musc_torque[phases_nb_steps[0]:], label=\"Extension phase\")\n",
    "\n",
    "axes[0,1].set_xlabel(\"Elbow flexion angle (deg)\")\n",
    "axes[0,1].set_ylabel(\"Passive muscular torque (N.m)\")\n",
    "\n",
    "\n",
    "axes[0,1].legend()\n",
    "axes[0,1].set_title(\"Passive muscular torque evolution during experiment\")\n",
    "\n",
    "# flexion alone\n",
    "axes[1,0].scatter(deg_elbow_pos[:phases_nb_steps[0]],\n",
    "                      elbow_musc_torque[:phases_nb_steps[0]])\n",
    "\n",
    "axes[1,0].vlines(0, np.min(elbow_musc_torque[:phases_nb_steps[0]]), np.max(elbow_musc_torque[:phases_nb_steps[0]]), colors='black', linestyles='dashed')\n",
    "axes[1,0].vlines(120, np.min(elbow_musc_torque[:phases_nb_steps[0]]), np.max(elbow_musc_torque[:phases_nb_steps[0]]), colors='black', linestyles='dashed')\n",
    "\n",
    "axes[1,0].set_xlabel(\"Elbow flexion angle (deg)\")\n",
    "axes[1,0].set_ylabel(\"Passive muscular torque (N.m)\")\n",
    "\n",
    "axes[1,0].set_title(\"Passive muscular torque evolution along flexion\")\n",
    "\n",
    "# extension alone\n",
    "axes[1,1].scatter(deg_elbow_pos[phases_nb_steps[0]:],\n",
    "                      elbow_musc_torque[phases_nb_steps[0]:], c=u'#ff7f0e')\n",
    "axes[1,1].vlines(0, np.min(elbow_musc_torque[phases_nb_steps[0]:]), np.max(elbow_musc_torque[:phases_nb_steps[0]]), colors='black', linestyles='dashed')\n",
    "axes[1,1].vlines(120, np.min(elbow_musc_torque[phases_nb_steps[0]:]), np.max(elbow_musc_torque[:phases_nb_steps[0]]), colors='black', linestyles='dashed')\n",
    "\n",
    "axes[1,1].set_xlabel(\"Elbow flexion angle (deg)\")\n",
    "axes[1,1].set_ylabel(\"Passive muscular torque (N.m)\")\n",
    "\n",
    "axes[1,1].set_title(\"Passive torque evolution along extension\")\n",
    "\n",
    "plt.show()"
   ]
  },
  {
   "cell_type": "code",
   "execution_count": null,
   "metadata": {},
   "outputs": [],
   "source": []
  }
 ],
 "metadata": {
  "interpreter": {
   "hash": "7ff0a52e16405beba66152e20be4a42358ae593e25243fd424011355466e5ea4"
  },
  "kernelspec": {
   "display_name": "Python 3.8.10 64-bit ('rehyb-mujoco': virtualenvwrapper)",
   "name": "python3"
  },
  "language_info": {
   "codemirror_mode": {
    "name": "ipython",
    "version": 3
   },
   "file_extension": ".py",
   "mimetype": "text/x-python",
   "name": "python",
   "nbconvert_exporter": "python",
   "pygments_lexer": "ipython3",
   "version": "3.8.10"
  },
  "orig_nbformat": 4
 },
 "nbformat": 4,
 "nbformat_minor": 2
}

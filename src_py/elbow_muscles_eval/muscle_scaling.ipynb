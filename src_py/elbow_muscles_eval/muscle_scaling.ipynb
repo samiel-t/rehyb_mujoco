{
 "cells": [
  {
   "cell_type": "code",
   "execution_count": 1,
   "metadata": {},
   "outputs": [],
   "source": [
    "import numpy as np"
   ]
  },
  {
   "cell_type": "markdown",
   "metadata": {},
   "source": [
    "## Easy case"
   ]
  },
  {
   "cell_type": "markdown",
   "metadata": {},
   "source": [
    "Brachialis"
   ]
  },
  {
   "cell_type": "code",
   "execution_count": 4,
   "metadata": {},
   "outputs": [
    {
     "name": "stdout",
     "output_type": "stream",
     "text": [
      "Upper arm norm: 0.0146962098, lower arm norm 0.0015526652999999996\n"
     ]
    }
   ],
   "source": [
    "S_o_0 = np.array([.16994, .00421, -.00129])\n",
    "S_i_0 = np.array([.03331, .01924, .00854])\n",
    "delta_0 = np.array([.2907, -.0058, -.0049])\n",
    "\n",
    "upper_arm_norm = np.linalg.norm(delta_0-S_o_0)**2\n",
    "lower_arm_norm = np.linalg.norm(S_i_0)**2\n",
    "\n",
    "L_0_min = .099\n",
    "L_0_max = .15\n",
    "\n",
    "\n",
    "\n",
    "\n",
    "def L(s_u, s_l, L_0):\n",
    "    return np.sqrt(\n",
    "        s_l*s_u*L_0**2 \\\n",
    "        + s_l*(s_l-s_u)*lower_arm_norm \\\n",
    "        + s_u*(s_u-s_l)*upper_arm_norm\n",
    "        )\n",
    "\n",
    "print(f\"Upper arm norm: {upper_arm_norm}, lower arm norm {lower_arm_norm}\")"
   ]
  },
  {
   "cell_type": "code",
   "execution_count": 13,
   "metadata": {},
   "outputs": [
    {
     "data": {
      "text/plain": [
       "0.014758876315529999"
      ]
     },
     "execution_count": 13,
     "metadata": {},
     "output_type": "execute_result"
    }
   ],
   "source": [
    "L(1, .01, L_0_max)**2"
   ]
  },
  {
   "cell_type": "markdown",
   "metadata": {},
   "source": [
    "Using a python script, compute:\n",
    "- L_min, L_max\n",
    "- norm(Delta_muscle - S_o_0)**2\n",
    "- norm(S_i_0)**2\n",
    "\n",
    "Save them as properties in the xacro model\n",
    "\n",
    "\n",
    "Create a macro to generate the muscle element with inputs:\n",
    "- L_min, L_max\n",
    "- norm(Delta_muscle - S_o_0)**2\n",
    "- norm(S_i_0)**2\n",
    "- s_l, s_u\n",
    "\n",
    "Special case for biceps-l, biceps-b, brachioradialis, tric long"
   ]
  },
  {
   "cell_type": "markdown",
   "metadata": {},
   "source": []
  }
 ],
 "metadata": {
  "interpreter": {
   "hash": "7a78004cf1b1e6e5be6e202a0a8aed3a823ec53708b4a0d93c0f7742755b39b0"
  },
  "kernelspec": {
   "display_name": "Python 3.8.10 64-bit ('rehyb-mujoco': virtualenv)",
   "language": "python",
   "name": "python3"
  },
  "language_info": {
   "codemirror_mode": {
    "name": "ipython",
    "version": 3
   },
   "file_extension": ".py",
   "mimetype": "text/x-python",
   "name": "python",
   "nbconvert_exporter": "python",
   "pygments_lexer": "ipython3",
   "version": "3.8.10"
  },
  "orig_nbformat": 4
 },
 "nbformat": 4,
 "nbformat_minor": 2
}

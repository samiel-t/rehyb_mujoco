{
 "cells": [
  {
   "cell_type": "code",
   "execution_count": null,
   "source": [
    "import numpy as np\n",
    "import matplotlib.pyplot as plt\n",
    "\n",
    "from utils import Fel, young_mod_to_stiffness, measure_passive_force_biceps"
   ],
   "outputs": [],
   "metadata": {}
  },
  {
   "cell_type": "code",
   "execution_count": null,
   "source": [
    "# data steming from biceps_alone.xml\n",
    "\n",
    "tendon_width = .03\n",
    "rest_length = .265\n",
    "\n",
    "biceps_stiffness = young_mod_to_stiffness(radius=tendon_width, rest_length=rest_length, E=120e3)\n",
    "\n",
    "x1 = .265\n",
    "y1 = 0\n",
    "\n",
    "x2 = .01\n",
    "y2 = -.02"
   ],
   "outputs": [],
   "metadata": {}
  },
  {
   "cell_type": "code",
   "execution_count": null,
   "source": [
    "flexion_data, extension_data = measure_passive_force_biceps()"
   ],
   "outputs": [],
   "metadata": {
    "tags": []
   }
  },
  {
   "cell_type": "code",
   "execution_count": null,
   "source": [
    "# flexion vs extension\n",
    "plt.figure(figsize=(8,8))\n",
    "plt.plot(np.rad2deg(flexion_data[0]), np.abs(flexion_data[1]), label=\"MuJoCo - elbow flexion\")\n",
    "plt.plot(np.rad2deg(extension_data[0]), np.abs(extension_data[1]),label=\"MuJoCo - elbow extension\")\n",
    "\n",
    "plt.xlabel(\"Theta (deg)\")\n",
    "plt.ylabel(\"Force induced by muscle's stiffness (N)\")\n",
    "plt.legend(loc=\"upper left\")\n",
    "plt.title(\"Flexion vs extension\")\n",
    "\n",
    "plt.show()"
   ],
   "outputs": [],
   "metadata": {}
  },
  {
   "cell_type": "code",
   "execution_count": null,
   "source": [
    "# flexion\n",
    "th_force_flex = Fel(x1, y1, x2, y2, flexion_data[0]+np.pi, biceps_stiffness, rest_length)\n",
    "\n",
    "plt.figure(figsize=(8,8))\n",
    "plt.plot(np.rad2deg(flexion_data[0]), th_force_flex, label=\"Theoretical model\")\n",
    "plt.plot(np.rad2deg(flexion_data[0]), np.abs(flexion_data[1]),label=\"MuJoCo data\")\n",
    "\n",
    "plt.xlabel(\"Theta (deg)\")\n",
    "plt.ylabel(\"Force induced by muscle's stiffness (N)\")\n",
    "plt.legend(loc=\"upper left\")\n",
    "plt.title(\"Elbow flexion\")\n",
    "\n",
    "plt.show()"
   ],
   "outputs": [],
   "metadata": {}
  },
  {
   "cell_type": "code",
   "execution_count": null,
   "source": [
    "#  extension\n",
    "th_force_ext = Fel(x1, y1, x2, y2, extension_data[0]+np.pi, biceps_stiffness, rest_length)\n",
    "\n",
    "plt.figure(figsize=(8,8))\n",
    "plt.plot(np.rad2deg(extension_data[0]), th_force_ext, label=\"Theoretical model\")\n",
    "plt.plot(np.rad2deg(extension_data[0]), np.abs(extension_data[1]), label=\"MuJoCo data\")\n",
    "\n",
    "plt.xlabel(\"Theta (deg)\")\n",
    "plt.ylabel(\"Force induced by muscle's stiffness (N)\")\n",
    "plt.legend(loc=\"upper left\")\n",
    "plt.title(\"Elbow extension\")\n",
    "\n",
    "plt.show()"
   ],
   "outputs": [],
   "metadata": {}
  },
  {
   "cell_type": "markdown",
   "source": [
    "**MuJoCo ergo sum**, René Descartes, *1637*"
   ],
   "metadata": {}
  },
  {
   "cell_type": "code",
   "execution_count": null,
   "source": [],
   "outputs": [],
   "metadata": {}
  }
 ],
 "metadata": {
  "kernelspec": {
   "name": "python3",
   "display_name": "Python 3.8.10 64-bit ('rehyb-mujoco': virtualenvwrapper)"
  },
  "language_info": {
   "codemirror_mode": {
    "name": "ipython",
    "version": 3
   },
   "file_extension": ".py",
   "mimetype": "text/x-python",
   "name": "python",
   "nbconvert_exporter": "python",
   "pygments_lexer": "ipython3",
   "version": "3.8.10"
  },
  "interpreter": {
   "hash": "7ff0a52e16405beba66152e20be4a42358ae593e25243fd424011355466e5ea4"
  }
 },
 "nbformat": 4,
 "nbformat_minor": 2
}
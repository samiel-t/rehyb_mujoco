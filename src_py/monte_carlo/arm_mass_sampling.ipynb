{
 "cells": [
  {
   "cell_type": "code",
   "execution_count": 1,
   "metadata": {},
   "outputs": [],
   "source": [
    "%load_ext autoreload\n",
    "%autoreload 2"
   ]
  },
  {
   "cell_type": "code",
   "execution_count": 2,
   "metadata": {},
   "outputs": [],
   "source": [
    "import os\n",
    "import matplotlib.pyplot as plt\n",
    "import numpy as np\n",
    "\n",
    "\n",
    "from xml.etree import ElementTree as ET\n",
    "from mujoco_py import load_model_from_path\n",
    "from scipy.stats import truncnorm\n",
    "\n",
    "from shared_utils.general import get_project_root, remove_tmp_files, models_folder_path\n",
    "from shared_utils.xacro import set_xacro_property, parse_xacro_to_xml\n",
    "from xml_generation.utils import insert_generated_comment, save_xml_file\n",
    "from inertia.assess_inertia import get_bodies_total_mass\n",
    "from monte_carlo.sample_models import get_ua_aux_mass_sample, get_la_aux_mass_sample\n",
    "from monte_carlo.constants import UA_MASS_MEAN, LA_MASS_MEAN, UA_AUX_MASS_MEAN, LA_AUX_MASS_MEAN\n",
    "from monte_carlo.constants import UA_MASS_STD, LA_MASS_STD\n",
    "from monte_carlo.constants import UA_AUX_MASS_LB, UA_AUX_MASS_UB, LA_AUX_MASS_UB, LA_AUX_MASS_LB"
   ]
  },
  {
   "cell_type": "markdown",
   "metadata": {},
   "source": [
    "### Minimum mass given mjc model constraints"
   ]
  },
  {
   "cell_type": "markdown",
   "metadata": {},
   "source": [
    "1. Set auxiliary mass to epsilon << total mass\n",
    "2. Measure mass"
   ]
  },
  {
   "cell_type": "code",
   "execution_count": 4,
   "metadata": {},
   "outputs": [
    {
     "name": "stdout",
     "output_type": "stream",
     "text": [
      "Saving xacro model...\n",
      "Generating xml model...\n",
      "Loading xml model...\n"
     ]
    }
   ],
   "source": [
    "ET.register_namespace('xacro', 'http://www.ros.org/wiki/xacro')\n",
    "\n",
    "path_to_root = get_project_root()\n",
    "\n",
    "relpath_to_script_tmp = os.path.join(\"bin\", \"outputs\", \"mc_tmp\")\n",
    "path_to_script_tmp = os.path.join(get_project_root(), relpath_to_script_tmp)\n",
    "assert os.path.isdir(path_to_script_tmp)\n",
    "\n",
    "# load original xacro model\n",
    "path_to_xacro_orig = os.path.join(models_folder_path(), \"exo_with_patient\", \"nesm_with_patient.xacro\")\n",
    "assert os.path.isfile(path_to_xacro_orig)\n",
    "xacro_tree = ET.parse(path_to_xacro_orig)\n",
    "\n",
    "xacro_root = xacro_tree.getroot()\n",
    "insert_generated_comment(xacro_root)\n",
    "edited_xacro_filename = \"nesm_with_patient_tmp.xacro\"\n",
    "xml_filename = \"nesm_with_patient_tmp.xml\"\n",
    "\n",
    "# set auxiliary masses to epsilon\n",
    "mass_epsilon = .001\n",
    "aux_mass_properties = [\"M_ua\", \"M_la_1\", \"M_la_2\"]\n",
    "\n",
    "for prop in aux_mass_properties:\n",
    "    set_xacro_property(xacro_root, prop, str(mass_epsilon))\n",
    "\n",
    "# the xacro file will not be saved in the usual bin/models/exo_with_patient folder\n",
    "# therefore the path to root property has to be adjusted\n",
    "set_xacro_property(xacro_root, \"path_to_root\", \"../../..\")\n",
    "\n",
    "# save the new xacro file in tmp\n",
    "print(\"Saving xacro model...\")\n",
    "save_xml_file(xacro_root, edited_xacro_filename, path_to_script_tmp)\n",
    "\n",
    "# parse newly generated xacro file into xml (uses xacro.sh)\n",
    "print(\"Generating xml model...\")\n",
    "parse_xacro_to_xml(edited_xacro_filename,\n",
    "                    xml_filename, relpath_to_script_tmp)\n",
    "\n",
    "# load the model and do something\n",
    "print(\"Loading xml model...\")\n",
    "model = load_model_from_path(\n",
    "    os.path.join(path_to_script_tmp, xml_filename))\n",
    "\n",
    "remove_tmp_files(path_to_script_tmp)"
   ]
  },
  {
   "cell_type": "code",
   "execution_count": 5,
   "metadata": {},
   "outputs": [
    {
     "name": "stdout",
     "output_type": "stream",
     "text": [
      "Minimum upper arm mass: 0.4900000000000004\n",
      "Minimum lower arm mass: 0.35300000000000026\n"
     ]
    }
   ],
   "source": [
    "# upper arm mass\n",
    "ua_body_names = [\"humerus_r\", \"ua_soft_collider\"]\n",
    "ua_mass = get_bodies_total_mass(ua_body_names, model)\n",
    "print(f\"Minimum upper arm mass: {ua_mass}\")\n",
    "\n",
    "# lower arm mass\n",
    "la_body_names = [\"ulna_r\", \"la_soft_collider\", \"radius_r\"]\n",
    "la_mass = get_bodies_total_mass(la_body_names, model)\n",
    "print(f\"Minimum lower arm mass: {la_mass}\")"
   ]
  },
  {
   "cell_type": "code",
   "execution_count": 6,
   "metadata": {},
   "outputs": [
    {
     "name": "stdout",
     "output_type": "stream",
     "text": [
      "Upper arm mass bias: 0.4890000000000004\n",
      "Lower arm mass bias: 0.35100000000000026\n"
     ]
    }
   ],
   "source": [
    "print(f\"Upper arm mass bias: {get_bodies_total_mass(['ua_soft_collider'], model)}\")\n",
    "print(f\"Lower arm mass bias: {get_bodies_total_mass(['la_soft_collider'], model)}\")"
   ]
  },
  {
   "cell_type": "markdown",
   "metadata": {},
   "source": [
    "### Average and std of arm mass"
   ]
  },
  {
   "cell_type": "markdown",
   "metadata": {},
   "source": [
    "Source of anthropometric percentages: *ESTIMATION OF MASS MOMENT OF INERTIA OF HUMAN\n",
    "BODY, WHEN BENDING FORWARD, FOR THE DESIGN OF A\n",
    "SELF-TRANSFER ROBOTIC FACILITY*"
   ]
  },
  {
   "cell_type": "markdown",
   "metadata": {},
   "source": [
    "Body weight stats: [Weight Height and Body Mass Index\n",
    "Distributions in Geographically and Ethnically\n",
    "Diverse Samples of Older Persons](https://watermark.silverchair.com/25-4-300.pdf?token=AQECAHi208BE49Ooan9kkhW_Ercy7Dm3ZL_9Cf3qfKAc485ysgAAAskwggLFBgkqhkiG9w0BBwagggK2MIICsgIBADCCAqsGCSqGSIb3DQEHATAeBglghkgBZQMEAS4wEQQMQ9mtUhrUuTTH6kdFAgEQgIICfJ-uPCWkXfxmMW1oKh4dMKeMhTHV8_I4yE08sLYusb0eVWU-BMmuewIIL6Ln2oFNSKyHkewcBozvCRkNtNKiWeCVXYBsLkt4ulPPQ7s538diNeP8VV8MllKXbNkBJkjfrITdTr-QvVLoHdqFZnn4ZYDnlfrIhA44OKIQEVbKF_gkQncVUGE6rrr1yxGpk4-GmjSG19XPiXisfU0vfvcXZu5Uf8wQolQxXiGdX4omMJrrjvFI-gmmn30_9cgTVuo4Z1r7EptY8dWOL7u750vEIDzHqpGhgOt19rvIW4og3IHkMcj28Ad34dL9fXBSeh1xJwik0RAdAmycDAuH7FsgZClgZy457AsJh2ll7T_QG1WiEk_EVR4zd7AFIBfiPBCvXjgbcPa_G9aNiYmiPH5-IscvAOcl9XYKGky7uVw9vySPKsrgS-40rMXUSaNHV43lAN_-7eslxj5ELUQIdl_aAGJWgo79LLP4vSiN47ZKxqiMIxri_HiFfT00YLwgveZvU1ZmGoPaIbYGt6m7qpv6WnydqGcyJhHJTtHd-4YeGgljrt6o1CCDlFkiKQ4xnq7vl9hWWYsarJJsuTP-kz0EoemxafWcqJbRJ85SWNFQAsppdG66g-dMwkEQmq8e3l03xTHIOtxg_kouPUe3u0PduVpqfvvaXUec3JenNBeTLdTcqJKcyQ2OJ4yIwZkpaV3bFALQO0szAdzifwpUwrIwV1OOcaljguOXhRYGaB6XKkK8hcRQ0A4d-NqYpr7sJadR6m6v1k4RRKJvKV7ggPf25lnaLFkmWzQhNJ7uW-VgjtyCQ8EmKlK1ITc6naiREeVRT5oNa63RHQ6y7s8GdQ)"
   ]
  },
  {
   "cell_type": "code",
   "execution_count": 7,
   "metadata": {},
   "outputs": [
    {
     "name": "stdout",
     "output_type": "stream",
     "text": [
      "Mean upper arm mass: 2.25\n",
      "Mean lower arm mass: 1.3125000000000002\n"
     ]
    }
   ],
   "source": [
    "print(f\"Mean upper arm mass: {UA_MASS_MEAN}\")\n",
    "print(f\"Mean lower arm mass: {LA_MASS_MEAN}\")"
   ]
  },
  {
   "cell_type": "code",
   "execution_count": 8,
   "metadata": {},
   "outputs": [
    {
     "name": "stdout",
     "output_type": "stream",
     "text": [
      "Mean auxiliary upper arm mass: 1.7610000000000001\n",
      "Mean auxiliary lower arm mass: 0.9615000000000002\n"
     ]
    }
   ],
   "source": [
    "print(f\"Mean auxiliary upper arm mass: {UA_AUX_MASS_MEAN}\")\n",
    "print(f\"Mean auxiliary lower arm mass: {LA_AUX_MASS_MEAN}\")"
   ]
  },
  {
   "cell_type": "code",
   "execution_count": 9,
   "metadata": {},
   "outputs": [
    {
     "name": "stdout",
     "output_type": "stream",
     "text": [
      "Upper arm mass std: 0.36\n",
      "Lower arm mass std: 0.21000000000000002\n"
     ]
    }
   ],
   "source": [
    "print(f\"Upper arm mass std: {UA_MASS_STD}\")\n",
    "print(f\"Lower arm mass std: {LA_MASS_STD}\")"
   ]
  },
  {
   "cell_type": "markdown",
   "metadata": {},
   "source": [
    "We have a margin of roughly 4 sigmas for truncated gaussian."
   ]
  },
  {
   "cell_type": "markdown",
   "metadata": {},
   "source": [
    "### Truncated gaussian model and sampler"
   ]
  },
  {
   "cell_type": "code",
   "execution_count": 10,
   "metadata": {},
   "outputs": [
    {
     "data": {
      "image/png": "[encoded data removed]",
      "text/plain": [
       "<Figure size 432x288 with 1 Axes>"
      ]
     },
     "metadata": {
      "needs_background": "light"
     },
     "output_type": "display_data"
    }
   ],
   "source": [
    "a, b = (LA_AUX_MASS_LB - LA_AUX_MASS_MEAN)/LA_MASS_STD, (LA_AUX_MASS_UB - LA_AUX_MASS_MEAN)/LA_MASS_STD\n",
    "x_array = np.linspace(LA_AUX_MASS_LB-.005, LA_AUX_MASS_UB+.005, 400)\n",
    "\n",
    "n_samples = (100000,)\n",
    "plt.hist(get_la_aux_mass_sample(n_samples), density=True, bins=30)\n",
    "plt.plot(x_array, truncnorm.pdf(x_array, a, b, loc=LA_AUX_MASS_MEAN, scale=LA_MASS_STD))\n",
    "plt.xlabel(\"Lower arm aux mass (kg)\")\n",
    "plt.ylabel(\"Density (-)\")\n",
    "plt.show()"
   ]
  },
  {
   "cell_type": "code",
   "execution_count": 11,
   "metadata": {},
   "outputs": [
    {
     "data": {
      "image/png": "[encoded data removed]",
      "text/plain": [
       "<Figure size 432x288 with 1 Axes>"
      ]
     },
     "metadata": {
      "needs_background": "light"
     },
     "output_type": "display_data"
    }
   ],
   "source": [
    "a, b = (UA_AUX_MASS_LB - UA_AUX_MASS_MEAN)/UA_MASS_STD, (UA_AUX_MASS_UB - UA_AUX_MASS_MEAN)/UA_MASS_STD\n",
    "x_array = np.linspace(UA_AUX_MASS_LB-.005, UA_AUX_MASS_UB+.005, 400)\n",
    "\n",
    "n_samples = (100000,)\n",
    "plt.hist(get_ua_aux_mass_sample(n_samples), density=True, bins=30)\n",
    "plt.plot(x_array, truncnorm.pdf(x_array, a, b, loc=UA_AUX_MASS_MEAN, scale=UA_MASS_STD))\n",
    "plt.xlabel(\"Upper arm aux mass (kg)\")\n",
    "plt.ylabel(\"Density (-)\")\n",
    "plt.show()"
   ]
  },
  {
   "cell_type": "code",
   "execution_count": null,
   "metadata": {},
   "outputs": [],
   "source": []
  },
  {
   "cell_type": "code",
   "execution_count": null,
   "metadata": {},
   "outputs": [],
   "source": []
  }
 ],
 "metadata": {
  "interpreter": {
   "hash": "7a78004cf1b1e6e5be6e202a0a8aed3a823ec53708b4a0d93c0f7742755b39b0"
  },
  "kernelspec": {
   "display_name": "Python 3.8.10 ('rehyb-mujoco')",
   "language": "python",
   "name": "python3"
  },
  "language_info": {
   "codemirror_mode": {
    "name": "ipython",
    "version": 3
   },
   "file_extension": ".py",
   "mimetype": "text/x-python",
   "name": "python",
   "nbconvert_exporter": "python",
   "pygments_lexer": "ipython3",
   "version": "3.8.10"
  },
  "orig_nbformat": 4
 },
 "nbformat": 4,
 "nbformat_minor": 2
}

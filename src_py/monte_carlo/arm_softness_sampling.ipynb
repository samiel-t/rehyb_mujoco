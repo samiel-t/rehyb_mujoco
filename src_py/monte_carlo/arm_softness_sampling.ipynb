{
 "cells": [
  {
   "cell_type": "code",
   "execution_count": 1,
   "metadata": {},
   "outputs": [],
   "source": [
    "%load_ext autoreload\n",
    "%autoreload 2"
   ]
  },
  {
   "cell_type": "code",
   "execution_count": 2,
   "metadata": {},
   "outputs": [],
   "source": [
    "import numpy as np\n",
    "import os\n",
    "import matplotlib.pyplot as plt\n",
    "\n",
    "from sklearn.linear_model import LinearRegression\n",
    "from mujoco_py import load_model_from_path, MjSim\n",
    "from scipy.stats import truncnorm\n",
    "\n",
    "\n",
    "from soft_tissues_eval.utils import edit_MjModel_cmp_smoothness\n",
    "from shared_utils.general import get_project_root, models_folder_path\n",
    "from soft_tissues_eval.soft_compression_eval import execute_pre_compression, execute_compression\n",
    "from monte_carlo.sample_models import get_solref_stiff_sample, generate_solrefsmooth_params\n",
    "from monte_carlo.constants import SOLREF_STIFF_LB, SOLREF_STIFF_UB, SOLREF_STIFF_MEAN, SOLREF_STIFF_STD"
   ]
  },
  {
   "cell_type": "code",
   "execution_count": 3,
   "metadata": {},
   "outputs": [],
   "source": [
    "%matplotlib inline"
   ]
  },
  {
   "cell_type": "markdown",
   "metadata": {},
   "source": [
    "The results of some computation are cached in files."
   ]
  },
  {
   "cell_type": "code",
   "execution_count": 4,
   "metadata": {},
   "outputs": [],
   "source": [
    "cache_folder_path = os.path.join(get_project_root(), \"bin\", \"outputs\", \"mc_softness_sampling\")\n",
    "assert os.path.isdir(cache_folder_path)"
   ]
  },
  {
   "cell_type": "markdown",
   "metadata": {},
   "source": [
    "## Estimate correct range for solref - stiffness parameter"
   ]
  },
  {
   "cell_type": "markdown",
   "metadata": {},
   "source": [
    "We use the compression test model and iterate over the stiffness."
   ]
  },
  {
   "cell_type": "code",
   "execution_count": 5,
   "metadata": {},
   "outputs": [
    {
     "name": "stdout",
     "output_type": "stream",
     "text": [
      "(array([27, 28]),) (array([155, 156]),)\n"
     ]
    }
   ],
   "source": [
    "model_path = os.path.join(models_folder_path(), \"soft_tissues\", \"compression_test_with_solref.xml\")\n",
    "assert os.path.isfile(model_path)\n",
    "\n",
    "\n",
    "model = load_model_from_path(model_path)\n",
    "\n",
    "# prefix of the evaluated composite body\n",
    "cmp_prefix = \"cmp_\"\n",
    "\n",
    "# get ref micro element for composite body width\n",
    "# they are colored in green and blue\n",
    "GREEN_RGBA = np.array([0.2, 0.8, 0.1, 1], dtype=np.float32)\n",
    "BLUE_RGBA = np.array([0.1, 0.2, 0.8, 1.], dtype=np.float32)\n",
    "\n",
    "green_bodies_idx = np.nonzero((model.geom_rgba == GREEN_RGBA).all(axis=1))\n",
    "blue_bodies_idx = np.nonzero((model.geom_rgba == BLUE_RGBA).all(axis=1))\n",
    "\n",
    "print(green_bodies_idx, blue_bodies_idx)"
   ]
  },
  {
   "cell_type": "markdown",
   "metadata": {},
   "source": [
    "Constant damping but modification of the stiffness parameter."
   ]
  },
  {
   "cell_type": "code",
   "execution_count": 6,
   "metadata": {},
   "outputs": [
    {
     "name": "stdout",
     "output_type": "stream",
     "text": [
      "[[-100 -111]\n",
      " [-225 -111]\n",
      " [-350 -111]\n",
      " [-475 -111]\n",
      " [-600 -111]\n",
      " [-725 -111]\n",
      " [-850 -111]\n",
      " [-975 -111]]\n"
     ]
    }
   ],
   "source": [
    "# draw uniform samples of solref stiffness\n",
    "# solref_stiffs = np.arange(-100, -2150, -250)\n",
    "solref_stiffs = np.arange(-100, -1050, -125)\n",
    "\n",
    "solref_damps = np.full_like(solref_stiffs, -111.)\n",
    "solrefs = np.column_stack((solref_stiffs, solref_damps))\n",
    "\n",
    "print(solrefs)"
   ]
  },
  {
   "cell_type": "code",
   "execution_count": 7,
   "metadata": {},
   "outputs": [],
   "source": [
    "# check if the result of the computation has not yet been cached\n",
    "final_states_path = os.path.join(cache_folder_path,'final_compression_states.npy')\n",
    "\n",
    "if(os.path.isfile(final_states_path)):\n",
    "    final_compression_states = np.load(final_states_path)\n",
    "\n",
    "else:\n",
    "    final_compression_states = np.zeros((0, 2))\n",
    "\n",
    "    for i, solref in enumerate(solrefs):\n",
    "        # set solref\n",
    "        edit_MjModel_cmp_smoothness(model, cmp_prefix, solref)\n",
    "\n",
    "        # extract useful element indexes\n",
    "        compressor_body_name = \"compressor\"\n",
    "        compressor_body_index = model.body_names.index(compressor_body_name)\n",
    "        compressor_joint_name = \"compressor_slide\"\n",
    "        compressor_joint_index = model.joint_name2id(compressor_joint_name)\n",
    "        compressor_act_index = 0\n",
    "        soft_body_name = \"test_collider\"\n",
    "        soft_body_index = model.body_names.index(soft_body_name)\n",
    "\n",
    "        # init simulation\n",
    "        sim = MjSim(model)\n",
    "        sim.forward()  # ensure that everything is initialized in the sim object\n",
    "\n",
    "        print(f\"Starting pre compression of soft body {i} ...\")\n",
    "\n",
    "        # execute pre compression\n",
    "        execute_pre_compression(model, sim, compressor_body_index, compressor_joint_index,\n",
    "                                compressor_act_index)\n",
    "\n",
    "        print(f\"Starting compression of soft body {i} ...\")\n",
    "\n",
    "        # execute compression\n",
    "        soft_body_width, force_array = execute_compression(sim, compressor_body_index,\n",
    "            compressor_act_index, force_step=10., green_bodies_idx=green_bodies_idx, blue_bodies_idx=blue_bodies_idx)\n",
    "\n",
    "        final_compression_states = np.vstack((final_compression_states, \n",
    "                                        np.array([soft_body_width[-1], force_array[-1]])))\n",
    "\n",
    "    # save in file\n",
    "    np.save(final_states_path, final_compression_states)"
   ]
  },
  {
   "cell_type": "markdown",
   "metadata": {},
   "source": [
    "#### Estimate the compression surface S"
   ]
  },
  {
   "cell_type": "code",
   "execution_count": 8,
   "metadata": {},
   "outputs": [
    {
     "name": "stdout",
     "output_type": "stream",
     "text": [
      "Initial width of the composite body: 0.07770260000000001\n",
      "Length of composite body: 0.18\n",
      "Compression surface approximation: 0.013986468000000002\n"
     ]
    }
   ],
   "source": [
    "# init simulation (we need a few pos measurements)\n",
    "sim = MjSim(model)\n",
    "sim.forward()\n",
    "\n",
    "#  measure initial width of the composite body\n",
    "green_mean_x = np.mean(sim.data.body_xpos[green_bodies_idx, 0])\n",
    "blue_mean_x = np.mean(sim.data.body_xpos[blue_bodies_idx, 0])\n",
    "cmp_init_width = np.abs(green_mean_x - blue_mean_x)\n",
    "\n",
    "print(f\"Initial width of the composite body: {cmp_init_width}\")\n",
    "\n",
    "\n",
    "# measure length of the composite body\n",
    "top_micro_elememt = \"cmp_B2_2_9\"\n",
    "bottom_micro_element = \"cmp_B2_2_0\"\n",
    "\n",
    "top_idx = model.body_name2id(top_micro_elememt)\n",
    "bottom_idx = model.body_name2id(bottom_micro_element)\n",
    "\n",
    "top_pos = sim.data.body_xpos[top_idx]\n",
    "bottom_pos = sim.data.body_xpos[bottom_idx]\n",
    "\n",
    "cmp_length = np.linalg.norm(top_pos - bottom_pos)\n",
    "\n",
    "print(f\"Length of composite body: {cmp_length}\")\n",
    "\n",
    "# deduce approximative compression surface\n",
    "S_approx = cmp_length*cmp_init_width\n",
    "\n",
    "print(f\"Compression surface approximation: {S_approx}\")"
   ]
  },
  {
   "cell_type": "markdown",
   "metadata": {},
   "source": [
    "#### Deduce Young modulus"
   ]
  },
  {
   "cell_type": "markdown",
   "metadata": {},
   "source": [
    "$E = \\sigma / \\epsilon = F / \\Delta l \\times l_0 / S$"
   ]
  },
  {
   "cell_type": "code",
   "execution_count": 9,
   "metadata": {},
   "outputs": [],
   "source": [
    "unscaled_modulus = final_compression_states[:,1] / final_compression_states[:,0]\n",
    "absolute_young_modulus = unscaled_modulus*cmp_init_width/S_approx"
   ]
  },
  {
   "cell_type": "code",
   "execution_count": 10,
   "metadata": {},
   "outputs": [
    {
     "data": {
      "image/png": "[encoded data removed]",
      "text/plain": [
       "<Figure size 720x360 with 1 Axes>"
      ]
     },
     "metadata": {
      "needs_background": "light"
     },
     "output_type": "display_data"
    }
   ],
   "source": [
    "plt.figure(figsize=(10, 5))\n",
    "plt.scatter(solref_stiffs, absolute_young_modulus/1000.)\n",
    "plt.ylabel(\"Young's modulus (kPa)\")\n",
    "plt.xlabel(\"solrefsmooth stiffness (N/m)\")\n",
    "\n",
    "plt.show()"
   ]
  },
  {
   "cell_type": "code",
   "execution_count": 11,
   "metadata": {},
   "outputs": [
    {
     "name": "stdout",
     "output_type": "stream",
     "text": [
      "R2 score of regression: 0.9641416355629971\n"
     ]
    }
   ],
   "source": [
    "young_mod_reg = LinearRegression().fit(solref_stiffs.reshape(-1, 1), absolute_young_modulus/1000)\n",
    "r2 = young_mod_reg.score(solref_stiffs.reshape(-1, 1), absolute_young_modulus/1000)\n",
    "print(f\"R2 score of regression: {r2}\")"
   ]
  },
  {
   "cell_type": "code",
   "execution_count": 29,
   "metadata": {},
   "outputs": [
    {
     "data": {
      "image/png": "[encoded data removed]",
      "text/plain": [
       "<Figure size 720x360 with 1 Axes>"
      ]
     },
     "metadata": {
      "needs_background": "light"
     },
     "output_type": "display_data"
    }
   ],
   "source": [
    "solref_array = np.linspace(solref_stiffs[0], solref_stiffs[-1], 50)\n",
    "linear_modulus = young_mod_reg.predict(solref_array.reshape(-1,1))\n",
    "\n",
    "plt.figure(figsize=(10, 5))\n",
    "plt.scatter(solref_stiffs, absolute_young_modulus/1000., label=\"Measured Young Modulus\")\n",
    "plt.plot(solref_array, linear_modulus, color='orange', label=\"Linear approximation\")\n",
    "plt.ylabel(\"Young's modulus (kPa)\")\n",
    "plt.xlabel(\"solrefsmooth stiffness (N/m)\")\n",
    "plt.legend()\n",
    "\n",
    "plt.show()"
   ]
  },
  {
   "cell_type": "markdown",
   "metadata": {},
   "source": [
    "Let's restrict ourselves to this interval where the evoluation is roughly linear."
   ]
  },
  {
   "cell_type": "code",
   "execution_count": 12,
   "metadata": {},
   "outputs": [
    {
     "name": "stdout",
     "output_type": "stream",
     "text": [
      "Upper bound solrefsmooth stiffness: -100\n",
      "Lower bound solrefsmooth stiffness: -975\n"
     ]
    }
   ],
   "source": [
    "print(f\"Upper bound solrefsmooth stiffness: {solref_stiffs[0]}\")\n",
    "print(f\"Lower bound solrefsmooth stiffness: {solref_stiffs[-1]}\")"
   ]
  },
  {
   "cell_type": "markdown",
   "metadata": {},
   "source": [
    "## Define softness sampler"
   ]
  },
  {
   "cell_type": "markdown",
   "metadata": {},
   "source": [
    "A visualisation of the theoretical distribution + one draw is provided."
   ]
  },
  {
   "cell_type": "code",
   "execution_count": 13,
   "metadata": {},
   "outputs": [
    {
     "data": {
      "image/png": "[encoded data removed]",
      "text/plain": [
       "<Figure size 576x432 with 1 Axes>"
      ]
     },
     "metadata": {
      "needs_background": "light"
     },
     "output_type": "display_data"
    }
   ],
   "source": [
    "a, b = (SOLREF_STIFF_LB - SOLREF_STIFF_MEAN)/SOLREF_STIFF_STD, (SOLREF_STIFF_UB - SOLREF_STIFF_MEAN)/SOLREF_STIFF_STD\n",
    "x_array = np.linspace(SOLREF_STIFF_LB-.05, SOLREF_STIFF_UB+.05, 400)\n",
    "\n",
    "\n",
    "n_samples = (100000,)\n",
    "samples_draw = get_solref_stiff_sample(n_samples)\n",
    "plt.figure(figsize=(8,6))\n",
    "plt.hist(samples_draw, density=True, bins=30)\n",
    "plt.plot(x_array, truncnorm.pdf(x_array, a, b, loc=SOLREF_STIFF_MEAN, scale=SOLREF_STIFF_STD))\n",
    "plt.xlabel(\"solrefsmooth stiffness (N/m)\")\n",
    "plt.ylabel(\"Density (-)\")\n",
    "plt.show()"
   ]
  },
  {
   "cell_type": "markdown",
   "metadata": {},
   "source": [
    "Visualisation in the Young Modulus space."
   ]
  },
  {
   "cell_type": "code",
   "execution_count": 25,
   "metadata": {},
   "outputs": [
    {
     "data": {
      "image/png": "[encoded data removed]",
      "text/plain": [
       "<Figure size 576x432 with 1 Axes>"
      ]
     },
     "metadata": {
      "needs_background": "light"
     },
     "output_type": "display_data"
    }
   ],
   "source": [
    "# convert solrefsmooth samples in young modulus\n",
    "young_mod_samples = young_mod_reg.predict(samples_draw.reshape(-1, 1))\n",
    "\n",
    "# modulus follows a gaussian distribution as well\n",
    "modulus_array = np.linspace((SOLREF_STIFF_LB-.05)*young_mod_reg.coef_[0] + young_mod_reg.intercept_,\n",
    " (SOLREF_STIFF_UB+.05)*young_mod_reg.coef_[0] + young_mod_reg.intercept_, 400)\n",
    "modulus_density = truncnorm.pdf(modulus_array, a, b, \n",
    "    loc = SOLREF_STIFF_MEAN*young_mod_reg.coef_[0]+young_mod_reg.intercept_,\n",
    "    scale = SOLREF_STIFF_STD*np.abs(young_mod_reg.coef_)[0])\n",
    "\n",
    "plt.figure(figsize=(8,6))\n",
    "plt.hist(young_mod_samples, density=True, bins=30)\n",
    "plt.plot(modulus_array, modulus_density)\n",
    "plt.xlabel(\"Young modulus (kPa)\")\n",
    "plt.ylabel(\"Density (-)\")\n",
    "plt.show()"
   ]
  },
  {
   "cell_type": "markdown",
   "metadata": {},
   "source": [
    "Generating solref is not exactly the same; we generate solref independently for upper and lower arm, with a fixed damping parameter (=-111)"
   ]
  },
  {
   "cell_type": "code",
   "execution_count": 15,
   "metadata": {},
   "outputs": [
    {
     "data": {
      "text/plain": [
       "{'ua_solrefsmooth': array([[-862.82535935, -111.        ],\n",
       "        [-620.70539728, -111.        ],\n",
       "        [-360.89414295, -111.        ],\n",
       "        [-622.78048604, -111.        ],\n",
       "        [-365.48703632, -111.        ]]),\n",
       " 'la_solrefsmooth': array([[-532.74444164, -111.        ],\n",
       "        [-459.36727628, -111.        ],\n",
       "        [-789.33196262, -111.        ],\n",
       "        [-546.21916414, -111.        ],\n",
       "        [-584.20621478, -111.        ]])}"
      ]
     },
     "execution_count": 15,
     "metadata": {},
     "output_type": "execute_result"
    }
   ],
   "source": [
    "generate_solrefsmooth_params(5)"
   ]
  },
  {
   "cell_type": "code",
   "execution_count": null,
   "metadata": {},
   "outputs": [],
   "source": []
  }
 ],
 "metadata": {
  "interpreter": {
   "hash": "7a78004cf1b1e6e5be6e202a0a8aed3a823ec53708b4a0d93c0f7742755b39b0"
  },
  "kernelspec": {
   "display_name": "Python 3.8.10 ('rehyb-mujoco')",
   "language": "python",
   "name": "python3"
  },
  "language_info": {
   "codemirror_mode": {
    "name": "ipython",
    "version": 3
   },
   "file_extension": ".py",
   "mimetype": "text/x-python",
   "name": "python",
   "nbconvert_exporter": "python",
   "pygments_lexer": "ipython3",
   "version": "3.8.10"
  },
  "orig_nbformat": 4
 },
 "nbformat": 4,
 "nbformat_minor": 2
}
